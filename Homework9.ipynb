{
  "nbformat": 4,
  "nbformat_minor": 0,
  "metadata": {
    "colab": {
      "provenance": [],
      "authorship_tag": "ABX9TyNKTidxJcpwhT24byjG5wNO",
      "include_colab_link": true
    },
    "kernelspec": {
      "name": "python3",
      "display_name": "Python 3"
    },
    "language_info": {
      "name": "python"
    }
  },
  "cells": [
    {
      "cell_type": "markdown",
      "metadata": {
        "id": "view-in-github",
        "colab_type": "text"
      },
      "source": [
        "<a href=\"https://colab.research.google.com/github/TrapLord92/GB_Python2/blob/main/Homework9.ipynb\" target=\"_parent\"><img src=\"https://colab.research.google.com/assets/colab-badge.svg\" alt=\"Open In Colab\"/></a>"
      ]
    },
    {
      "cell_type": "markdown",
      "source": [
        "**Задача 40: Работать с файлом california_housing_train.csv, который находится в папке sample_data. Определить среднюю стоимость дома, где кол-во людей от 0 до 500 (population).**\n"
      ],
      "metadata": {
        "id": "vvirSONBfRoe"
      }
    },
    {
      "cell_type": "code",
      "execution_count": 1,
      "metadata": {
        "colab": {
          "base_uri": "https://localhost:8080/"
        },
        "id": "9bmD3AwCexgr",
        "outputId": "6b4a46fe-3339-4f4c-84ea-5e09d6f2d32e"
      },
      "outputs": [
        {
          "output_type": "execute_result",
          "data": {
            "text/plain": [
              "206683.83635227982"
            ]
          },
          "metadata": {},
          "execution_count": 1
        }
      ],
      "source": [
        "import pandas as pd\n",
        "\n",
        "df = pd.read_csv('sample_data/california_housing_train.csv')\n",
        "\n",
        "df[\n",
        "    (df['population'] > 0) &\n",
        "    (df['population'] < 500)\n",
        "].median_house_value.mean()"
      ]
    },
    {
      "cell_type": "markdown",
      "source": [
        "**Задача 42: Узнать какая максимальная households в зоне минимального значения population.**"
      ],
      "metadata": {
        "id": "CMsVlU6Wf4fs"
      }
    },
    {
      "cell_type": "code",
      "source": [
        "min_population = df.population.min()\n",
        "df[\n",
        "    df['population'] == min_population\n",
        "].households.max()"
      ],
      "metadata": {
        "colab": {
          "base_uri": "https://localhost:8080/"
        },
        "id": "wI3Byo18fHSO",
        "outputId": "e913d123-f062-49e9-a44a-292b8d1d98a9"
      },
      "execution_count": 2,
      "outputs": [
        {
          "output_type": "execute_result",
          "data": {
            "text/plain": [
              "4.0"
            ]
          },
          "metadata": {},
          "execution_count": 2
        }
      ]
    },
    {
      "cell_type": "markdown",
      "source": [],
      "metadata": {
        "id": "VPS91Q0ofQJz"
      }
    }
  ]
}