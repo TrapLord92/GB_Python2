{
  "nbformat": 4,
  "nbformat_minor": 0,
  "metadata": {
    "colab": {
      "provenance": [],
      "authorship_tag": "ABX9TyOQaDnmeWBCs7bDGQK2wlfX",
      "include_colab_link": true
    },
    "kernelspec": {
      "name": "python3",
      "display_name": "Python 3"
    },
    "language_info": {
      "name": "python"
    }
  },
  "cells": [
    {
      "cell_type": "markdown",
      "metadata": {
        "id": "view-in-github",
        "colab_type": "text"
      },
      "source": [
        "<a href=\"https://colab.research.google.com/github/TrapLord92/GB_Python2/blob/main/FinalProjectLesson10.ipynb\" target=\"_parent\"><img src=\"https://colab.research.google.com/assets/colab-badge.svg\" alt=\"Open In Colab\"/></a>"
      ]
    },
    {
      "cell_type": "markdown",
      "source": [
        "| Задание 44 |\n",
        "| --- |\n",
        "| В ячейке ниже представлен код генерирующий DataFrame, которая состоит всего из 1 столбца. Ваша задача перевести его в one hot вид. Сможете ли вы это сделать без get_dummies?\n",
        "\n",
        "import random\n",
        "lst = ['robot'] * 10\n",
        "lst += ['human'] * 10\n",
        "random.shuffle(lst)\n",
        "data = pd.DataFrame({'whoAmI'lst})\n",
        "data.head() |"
      ],
      "metadata": {
        "id": "vZ2X2GI6D7O5"
      }
    },
    {
      "cell_type": "code",
      "execution_count": 2,
      "metadata": {
        "colab": {
          "base_uri": "https://localhost:8080/"
        },
        "id": "wmpWLpUWDIY1",
        "outputId": "03dc37db-eee3-4eb0-8565-2f0f61d3c4bd"
      },
      "outputs": [
        {
          "output_type": "stream",
          "name": "stdout",
          "text": [
            "   whoAmI\n",
            "0   human\n",
            "1   robot\n",
            "2   human\n",
            "3   robot\n",
            "4   robot\n",
            "5   robot\n",
            "6   human\n",
            "7   human\n",
            "8   robot\n",
            "9   robot\n",
            "10  robot\n",
            "11  human\n",
            "12  human\n",
            "13  human\n",
            "14  human\n",
            "15  human\n",
            "16  robot\n",
            "17  robot\n",
            "18  human\n",
            "19  robot\n",
            "    human  robot\n",
            "0       1      0\n",
            "1       0      1\n",
            "2       1      0\n",
            "3       0      1\n",
            "4       0      1\n",
            "5       0      1\n",
            "6       1      0\n",
            "7       1      0\n",
            "8       0      1\n",
            "9       0      1\n",
            "10      0      1\n",
            "11      1      0\n",
            "12      1      0\n",
            "13      1      0\n",
            "14      1      0\n",
            "15      1      0\n",
            "16      0      1\n",
            "17      0      1\n",
            "18      1      0\n",
            "19      0      1\n"
          ]
        }
      ],
      "source": [
        "\n",
        "import pandas as pd \n",
        "import numpy as np \n",
        "import random\n",
        " \n",
        "lst = ['robot'] * 10\n",
        "lst += ['human'] * 10\n",
        "random.shuffle(lst)\n",
        "data = pd.DataFrame({'whoAmI': lst})\n",
        "print(data)\n",
        " \n",
        "#==================================================#\n",
        "data['tmp'] = 1\n",
        "data.set_index([data.index, 'whoAmI'], inplace=True)\n",
        "data = data.unstack(level=-1, fill_value = 0).astype(int)\n",
        "data.columns = data.columns.droplevel()\n",
        "data.columns.name = None\n",
        "print(data)\n"
      ]
    }
  ]
}